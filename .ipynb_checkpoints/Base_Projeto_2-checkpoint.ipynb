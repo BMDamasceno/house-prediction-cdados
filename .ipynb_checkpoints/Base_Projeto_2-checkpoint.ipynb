{
 "cells": [
  {
   "cell_type": "markdown",
   "metadata": {},
   "source": [
    "# Projeto 2 de Ciência dos Dados\n",
    "\n",
    "Integrantes:\n",
    "- Barbara Martins Damasceno\n",
    "- Daniel Costa Delattre \n",
    "- Guilherme Augusto Carvalho\n",
    "\n",
    "## Objetivo \n",
    "**Pergunta que queremos responder**\n",
    "Qual é o preço de uma casa de acordo com suas características?"
   ]
  },
  {
   "cell_type": "markdown",
   "metadata": {},
   "source": [
    "Carregando algumas bibliotecas:"
   ]
  },
  {
   "cell_type": "code",
   "execution_count": null,
   "metadata": {},
   "outputs": [],
   "source": [
    "%matplotlib inline\n",
    "import pandas as pd\n",
    "import matplotlib.pyplot as plt\n",
    "import numpy as np\n",
    "from scipy import stats\n",
    "import os, csv, string, re\n",
    "import statsmodels.api as sm\n",
    "from mpl_toolkits.mplot3d import Axes3D\n",
    "from sklearn.ensemble import RandomForestRegressor\n",
    "from sklearn.metrics import mean_absolute_error\n",
    "from sklearn.model_selection import train_test_split\n",
    "from sklearn.tree import DecisionTreeRegressor"
   ]
  },
  {
   "cell_type": "code",
   "execution_count": null,
   "metadata": {},
   "outputs": [],
   "source": [
    "### Função utilitária para fazer a regressão com constante adicionada\n",
    "def regress(X,Y):\n",
    "    '''\n",
    "    X: coluna(s) do DataFrame que serão utilizadas como variável(is) preditoras/explicativas (independente(s))\n",
    "    Y: coluna do DataFrame que será utilizada como variável resposta (dependente)\n",
    "    '''\n",
    "    X_cp = sm.add_constant(X)\n",
    "    model = sm.OLS(Y,X_cp)\n",
    "    results = model.fit()\n",
    "    return results"
   ]
  },
  {
   "cell_type": "markdown",
   "metadata": {},
   "source": [
    "Verificando o diretório"
   ]
  },
  {
   "cell_type": "code",
   "execution_count": null,
   "metadata": {},
   "outputs": [],
   "source": [
    "print('Esperamos trabalhar no diretório')\n",
    "print(os.getcwd())"
   ]
  },
  {
   "cell_type": "markdown",
   "metadata": {},
   "source": [
    "Carregando a base de dados de teste e de treino:"
   ]
  },
  {
   "cell_type": "code",
   "execution_count": null,
   "metadata": {},
   "outputs": [],
   "source": [
    "dados= pd.read_csv('datacasas.csv')\n",
    "#dadosteste = pd.read_csv('t1.xlsx', sheet_name='Teste')"
   ]
  },
  {
   "cell_type": "markdown",
   "metadata": {},
   "source": [
    "Verificando se não existe linhas sem dados/informação"
   ]
  },
  {
   "cell_type": "code",
   "execution_count": null,
   "metadata": {},
   "outputs": [],
   "source": [
    "np.sum(dados.isnull())"
   ]
  },
  {
   "cell_type": "code",
   "execution_count": null,
   "metadata": {},
   "outputs": [],
   "source": [
    "dados.columns"
   ]
  },
  {
   "cell_type": "code",
   "execution_count": null,
   "metadata": {},
   "outputs": [],
   "source": [
    "len(dados.columns)"
   ]
  },
  {
   "cell_type": "code",
   "execution_count": null,
   "metadata": {},
   "outputs": [],
   "source": [
    "dados.head(5)"
   ]
  },
  {
   "cell_type": "code",
   "execution_count": null,
   "metadata": {},
   "outputs": [],
   "source": [
    "plt.boxplot(dados['price'])\n",
    "plt.show()"
   ]
  },
  {
   "cell_type": "code",
   "execution_count": null,
   "metadata": {},
   "outputs": [],
   "source": [
    "#Plotando as informações em gráficos\n",
    "fig = plt.figure(figsize=(15, 30))\n",
    "\n",
    "plt.subplot(4, 2, 1)\n",
    "plt.hist(dados.price,bins=100,density=True)\n",
    "plt.title('Histograma do preço')\n",
    "\n",
    "plt.subplot(4, 2, 2)\n",
    "faixa_aleatoria = np.arange(0,len(dados.price),1)\n",
    "plt.scatter(faixa_aleatoria,dados.price)\n",
    "plt.title('Distribuição do preço')\n",
    "\n",
    "plt.subplot(4,2,3)\n",
    "plt.scatter(dados.price, dados.bedrooms)\n",
    "plt.title('Preço x Número de quartos')\n",
    "plt.xlabel('Preço')\n",
    "plt.ylabel('Número de quartos')\n",
    "\n",
    "plt.subplot(4,2,4)\n",
    "plt.scatter(dados.price, dados.bathrooms)\n",
    "plt.title('Preço x Número de banheiros')\n",
    "plt.xlabel('Preço')\n",
    "plt.ylabel('Número de banheiros')\n",
    "\n",
    "plt.subplot(4,2,5)\n",
    "plt.scatter(dados.price, dados.sqft_living)\n",
    "plt.title('Preço x Área da casa')\n",
    "plt.xlabel('Preço')\n",
    "plt.ylabel('Área da casa')\n",
    "\n",
    "plt.subplot(4,2,6)\n",
    "plt.scatter(dados.price, dados.sqft_lot)\n",
    "plt.title('Preço x Área do terreno')\n",
    "plt.xlabel('Preço')\n",
    "plt.ylabel(\"Área do terreno\")\n",
    "\n",
    "plt.subplot(4,2,7)\n",
    "plt.scatter(dados.bedrooms, dados.bathrooms)\n",
    "plt.title('Relação entre quartos e banheiros')\n",
    "plt.xlabel('Número de quatros')\n",
    "plt.ylabel('Número de banheiros')\n",
    "\n"
   ]
  },
  {
   "cell_type": "code",
   "execution_count": null,
   "metadata": {},
   "outputs": [],
   "source": []
  },
  {
   "cell_type": "code",
   "execution_count": null,
   "metadata": {},
   "outputs": [],
   "source": [
    "X = dados[['bedrooms', 'bathrooms', 'sqft_living','waterfront', 'view', 'condition', 'grade',\n",
    "       'sqft_above', 'sqft_basement', 'yr_built', 'yr_renovated', 'lat', 'long']]\n",
    "Y = dados['price']"
   ]
  },
  {
   "cell_type": "code",
   "execution_count": null,
   "metadata": {},
   "outputs": [],
   "source": [
    "Y.max"
   ]
  },
  {
   "cell_type": "code",
   "execution_count": null,
   "metadata": {},
   "outputs": [],
   "source": [
    "X.corr()"
   ]
  },
  {
   "cell_type": "code",
   "execution_count": null,
   "metadata": {},
   "outputs": [],
   "source": [
    "results = regress(X,Y)\n",
    "results.summary()"
   ]
  },
  {
   "cell_type": "code",
   "execution_count": null,
   "metadata": {},
   "outputs": [],
   "source": [
    "resultado_reg = results.resid\n",
    "\n",
    "y_predict = results.predict(sm.add_constant(X))\n",
    "\n",
    "fig1 = plt.figure(figsize=(10, 3))\n",
    "plt.subplot(1,2,1)\n",
    "plt.scatter(y_predict,resultado_reg)\n",
    "plt.title(\"Homocedasticidade\")\n",
    "\n",
    "plt.subplot(1,2,2)\n",
    "stats.probplot(resultado_reg,dist='norm',plot=plt)\n",
    "plt.show()"
   ]
  },
  {
   "cell_type": "code",
   "execution_count": null,
   "metadata": {},
   "outputs": [],
   "source": [
    "features = ['bedrooms', 'bathrooms', 'sqft_living',\n",
    "       'sqft_lot', 'floors', 'waterfront', 'view', 'condition', 'grade',\n",
    "       'sqft_above', 'sqft_basement', 'yr_built', 'yr_renovated', 'zipcode', 'sqft_living15', 'sqft_lot15',\n",
    "       'lat', 'long',]"
   ]
  },
  {
   "cell_type": "code",
   "execution_count": null,
   "metadata": {},
   "outputs": [],
   "source": [
    "y = dados.price\n",
    "x = dados[features]\n",
    "\n",
    "xtreino,xvalidacao,ytreino,yvalidacao = train_test_split(x, y, random_state=1)"
   ]
  },
  {
   "cell_type": "code",
   "execution_count": null,
   "metadata": {},
   "outputs": [],
   "source": [
    "# Especificando o modelo\n",
    "modelo_decisiontree = DecisionTreeRegressor()\n",
    "# Fit do modelo \n",
    "modelo_decisiontree.fit(xtreino, ytreino)"
   ]
  },
  {
   "cell_type": "code",
   "execution_count": null,
   "metadata": {},
   "outputs": [],
   "source": [
    "# Faz a previsão do preço das casas e calcula a média dos erros com base \n",
    "val_predictions = modelo_decisiontree.predict(xvalidacao)\n",
    "val_mae = mean_absolute_error(val_predictions, yvalidacao)\n",
    "print(f'MAE: {val_mae:.2f}')"
   ]
  },
  {
   "cell_type": "code",
   "execution_count": 49,
   "metadata": {},
   "outputs": [
    {
     "name": "stdout",
     "output_type": "stream",
     "text": [
      "Random Forest MAE: 82788.47\n"
     ]
    }
   ],
   "source": [
    "#modelo usando random forest \n",
    "modelo_randomforest = RandomForestRegressor(random_state=1, criterion='mae',n_jobs=4,n_estimators=4)\n",
    "modelo_randomforest.fit(xtreino, ytreino)\n",
    "rf_predict = modelo_randomforest.predict(xvalidacao)\n",
    "rf_mae = mean_absolute_error(rf_predict, yvalidacao)\n",
    "\n",
    "print(f'Random Forest MAE: {rf_mae:.2f}')"
   ]
  },
  {
   "cell_type": "code",
   "execution_count": null,
   "metadata": {},
   "outputs": [],
   "source": [
    "fig1 = plt.figure(figsize=(10, 5))\n",
    "plt.scatter(val_predictions,yvalidacao)\n",
    "plt.title(\"Titulo\")\n",
    "plt.show()"
   ]
  },
  {
   "cell_type": "code",
   "execution_count": null,
   "metadata": {},
   "outputs": [],
   "source": [
    "for i in range(len(yvalidacao.tolist())):\n",
    "    a = yvalidacao.tolist()[i]\n",
    "    b = val_predictions[i]\n",
    "    print(a,b)\n",
    "    print(f'erro: {a-b}')\n",
    "    print('')\n",
    "    "
   ]
  },
  {
   "cell_type": "code",
   "execution_count": null,
   "metadata": {},
   "outputs": [],
   "source": [
    "val_predictions[0]"
   ]
  },
  {
   "cell_type": "code",
   "execution_count": null,
   "metadata": {},
   "outputs": [],
   "source": [
    "aaa = yvalidacao.tolist()\n",
    "aaa[0]"
   ]
  },
  {
   "cell_type": "code",
   "execution_count": null,
   "metadata": {},
   "outputs": [],
   "source": [
    "aaa[0]-val_predictions[0]"
   ]
  },
  {
   "cell_type": "code",
   "execution_count": null,
   "metadata": {},
   "outputs": [],
   "source": []
  }
 ],
 "metadata": {
  "kernelspec": {
   "display_name": "Python 3",
   "language": "python",
   "name": "python3"
  },
  "language_info": {
   "codemirror_mode": {
    "name": "ipython",
    "version": 3
   },
   "file_extension": ".py",
   "mimetype": "text/x-python",
   "name": "python",
   "nbconvert_exporter": "python",
   "pygments_lexer": "ipython3",
   "version": "3.8.3"
  }
 },
 "nbformat": 4,
 "nbformat_minor": 2
}
